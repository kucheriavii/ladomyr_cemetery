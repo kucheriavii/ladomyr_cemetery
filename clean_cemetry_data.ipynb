{
 "cells": [
  {
   "cell_type": "markdown",
   "id": "b00fdc20-1c33-487f-a5bf-616eb762e2f1",
   "metadata": {},
   "source": [
    "Імпортувати основні бібліотеки"
   ]
  },
  {
   "cell_type": "code",
   "execution_count": 72,
   "id": "1f3ac9b3",
   "metadata": {},
   "outputs": [],
   "source": [
    "import pandas as pd\n",
    "from pathlib import Path\n",
    "import re\n"
   ]
  },
  {
   "cell_type": "code",
   "execution_count": 73,
   "id": "500abc25",
   "metadata": {},
   "outputs": [
    {
     "name": "stderr",
     "output_type": "stream",
     "text": [
      "C:\\Users\\ПК\\AppData\\Local\\Temp\\ipykernel_8808\\3462611488.py:30: FutureWarning: The behavior of DataFrame concatenation with empty or all-NA entries is deprecated. In a future version, this will no longer exclude empty or all-NA columns when determining the result dtypes. To retain the old behavior, exclude the relevant entries before the concat operation.\n",
      "  df_all = pd.concat(dfs, ignore_index=True)\n"
     ]
    }
   ],
   "source": [
    "path = Path(\"data/Кладовище.xlsx\")\n",
    "\n",
    "dfs = []\n",
    "with pd.ExcelFile(path, engine=\"openpyxl\") as xls:\n",
    "    for sh in xls.sheet_names:\n",
    "        df = pd.read_excel(\n",
    "            xls,\n",
    "            sheet_name=sh,\n",
    "            header=None,\n",
    "            dtype=\"string\"\n",
    "        )\n",
    "        if df.empty:\n",
    "            continue\n",
    "\n",
    "        # Нормалізуємо до рівно 5 колонок і задаємо імена\n",
    "        df = df.reindex(columns=range(4))\n",
    "        df.columns = [\"number\", \"name\", \"dates\", \"teritory\"]\n",
    "\n",
    "        # Тягнемо вниз лише службові колонки — БЕЗ 'name'\n",
    "        # fill_cols = [\"number\", \"dates\", \"teritory\"]\n",
    "        # df[fill_cols] = df[fill_cols].ffill()\n",
    "\n",
    "        # Назва аркуша\n",
    "        df[\"sheet\"] = sh\n",
    "\n",
    "        # Просто перевірка, що аркуш не повністю порожній (не ховає порожні name)\n",
    "        if not df.dropna(how=\"all\").empty:\n",
    "            dfs.append(df)\n",
    "\n",
    "df_all = pd.concat(dfs, ignore_index=True)\n",
    "\n",
    "# Як і раніше: number не потрібен у вивантаженні\n",
    "df_all.drop(columns=[\"number\"], inplace=True)\n"
   ]
  },
  {
   "cell_type": "markdown",
   "id": "e082a09e",
   "metadata": {},
   "source": [
    "### Заповнити пробіли псевдоданими"
   ]
  },
  {
   "cell_type": "code",
   "execution_count": 74,
   "id": "a97e4531",
   "metadata": {},
   "outputs": [
    {
     "data": {
      "text/plain": [
       "name         113\n",
       "dates       1545\n",
       "teritory       0\n",
       "sheet          0\n",
       "dtype: int64"
      ]
     },
     "execution_count": 74,
     "metadata": {},
     "output_type": "execute_result"
    }
   ],
   "source": [
    "# Заповнити пропуски псевдоданими\n",
    "# df_all['full_name'] = df_all[\"full_name\"].fillna(\"John_Dou\") #Заповнити пропуски в іменах\n",
    "df_all['teritory'] = df_all['teritory'].fillna(\"To Be Confirmed\") \n",
    "df_all.isna().sum()\n",
    "\n"
   ]
  },
  {
   "cell_type": "code",
   "execution_count": 75,
   "id": "876afd98",
   "metadata": {},
   "outputs": [],
   "source": [
    "# Додати колонку з кількістю слів в датафрейм, в майбутньому для розділення імені\n",
    "\n",
    "word_pattern = r\"[A-Za-zА-Яа-яІіЇїЄєҐґ’']+\" #будь яка послідовність кирилиці або латиниці є словом\n",
    "\n",
    "# колонка з кількістю слів\n",
    "df_all[\"word_count\"] = (\n",
    "    df_all[\"name\"]  \n",
    "      .fillna(\" \") #Заповнити null щоб не падало (просто страховка, вище замінив на J Dou])\n",
    "      .str.replace(r\"\\s+\", \" \", regex=True).str.strip() # прибрати зайві пробіли\n",
    "      .str.findall(word_pattern) # знайти матчі\n",
    "      .str.len() # порахувати матчі\n",
    ")\n"
   ]
  },
  {
   "cell_type": "code",
   "execution_count": 76,
   "id": "ecb0962d",
   "metadata": {},
   "outputs": [],
   "source": [
    "# Проставити імя та призвіще\n",
    "norm = (\n",
    "    df_all[\"name\"]\n",
    "      .fillna(\"\")\n",
    "      .str.replace(r\"\\s+\", \" \", regex=True).str.strip()\n",
    ")\n",
    "\n",
    "\n",
    "df_all[\"second_name\"]  = norm.str.extract(rf\"^({word_pattern})\", expand=False)\n",
    "df_all[\"first_name\"] = norm.str.extract(rf\"^(?:{word_pattern})\\s+({word_pattern})\", expand=False)\n",
    "\n",
    "    \n"
   ]
  },
  {
   "cell_type": "code",
   "execution_count": 77,
   "id": "75b1e8e8",
   "metadata": {},
   "outputs": [],
   "source": [
    "# Створення колонок з датою народження та датою смерті\n",
    "s = df_all[\"dates\"].astype(\"string\").str.replace(r\"[–—−]\", \"-\", regex=True)\n",
    "\n",
    "# витягуємо ПЕРШИЙ рік до тире (народження) і ПЕРШИЙ рік після тире (смерті)\n",
    "rng = s.str.extract(r'^\\s*(?:.*?(\\d{3,4})).*?-\\s*(?:.*?(\\d{3,4})).*$')\n",
    "\n",
    "df_all[\"birth_year\"] = rng[0]\n",
    "df_all[\"death_year\"] = rng[1]\n",
    "\n",
    "# якщо в комірці був лише один рік без тире — це рік смерті\n",
    "single = s.str.extract(r'^\\s*(?:.*?(\\d{3,4}))\\s*$')\n",
    "df_all[\"death_year\"] = df_all[\"death_year\"].fillna(single[0])\n",
    "\n",
    "# привести до числового типу з підтримкою NaN\n",
    "for col in [\"birth_year\", \"death_year\"]:\n",
    "    df_all[col] = pd.to_numeric(df_all[col], errors=\"coerce\").astype(\"Int64\")\n",
    "\n",
    "df_all.to_excel(\"test.xlsx\", index=False)\n"
   ]
  }
 ],
 "metadata": {
  "kernelspec": {
   "display_name": "Python 3 (ipykernel)",
   "language": "python",
   "name": "python3"
  },
  "language_info": {
   "codemirror_mode": {
    "name": "ipython",
    "version": 3
   },
   "file_extension": ".py",
   "mimetype": "text/x-python",
   "name": "python",
   "nbconvert_exporter": "python",
   "pygments_lexer": "ipython3",
   "version": "3.13.7"
  }
 },
 "nbformat": 4,
 "nbformat_minor": 5
}
