{
 "cells": [
  {
   "cell_type": "markdown",
   "id": "b00fdc20-1c33-487f-a5bf-616eb762e2f1",
   "metadata": {},
   "source": [
    "Імпортувати основні бібліотеки"
   ]
  },
  {
   "cell_type": "code",
   "execution_count": 1,
   "id": "1f3ac9b3",
   "metadata": {},
   "outputs": [],
   "source": [
    "import pandas as pd\n",
    "from pathlib import Path\n",
    "\n",
    "\n"
   ]
  },
  {
   "cell_type": "code",
   "execution_count": null,
   "id": "500abc25",
   "metadata": {},
   "outputs": [
    {
     "data": {
      "text/plain": [
       "(9479, 4)"
      ]
     },
     "execution_count": 4,
     "metadata": {},
     "output_type": "execute_result"
    }
   ],
   "source": [
    "path = Path(\"data/Кладовище.xlsx\")\n",
    "\n",
    "dfs = {}\n",
    "with pd.ExcelFile(path) as xls:  \n",
    "    for sh in xls.sheet_names:\n",
    "        df = pd.read_excel(xls, sheet_name=sh, header=None, names=[\"number\",\"name\",\"dates\",\"teritory\", 'row_list'])\n",
    "        df['row_list'] = sh\n",
    "        if not df.empty:        \n",
    "            dfs[sh] = df\n",
    "\n",
    "df_all = pd.concat(dfs.values(), ignore_index=True, sort=False)\n",
    "df_all = df_all.drop(columns=[\"number\"])\n",
    "\n",
    "df_all.shape\n"
   ]
  },
  {
   "cell_type": "code",
   "execution_count": 22,
   "id": "a97e4531",
   "metadata": {},
   "outputs": [
    {
     "data": {
      "text/plain": [
       "name           0\n",
       "dates       1545\n",
       "teritory       0\n",
       "row_list       0\n",
       "dtype: int64"
      ]
     },
     "execution_count": 22,
     "metadata": {},
     "output_type": "execute_result"
    }
   ],
   "source": [
    "# Заповнити пропуски псевдоданими\n",
    "df_all['name'] = df_all[\"name\"].fillna(\"J Dou\") #Заповнити пропуски в іменах\n",
    "df_all['teritory'] = df_all['teritory'].fillna(\"To Be Confirmed\") \n",
    "df_all.isna().sum()\n"
   ]
  }
 ],
 "metadata": {
  "kernelspec": {
   "display_name": "Python 3 (ipykernel)",
   "language": "python",
   "name": "python3"
  },
  "language_info": {
   "codemirror_mode": {
    "name": "ipython",
    "version": 3
   },
   "file_extension": ".py",
   "mimetype": "text/x-python",
   "name": "python",
   "nbconvert_exporter": "python",
   "pygments_lexer": "ipython3",
   "version": "3.13.7"
  }
 },
 "nbformat": 4,
 "nbformat_minor": 5
}
